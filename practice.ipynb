{
 "cells": [
  {
   "cell_type": "code",
   "execution_count": 1,
   "id": "aec6e219-1c99-4a07-ac6d-f7e46a5448ce",
   "metadata": {},
   "outputs": [
    {
     "data": {
      "text/plain": [
       "'hello world'"
      ]
     },
     "execution_count": 1,
     "metadata": {},
     "output_type": "execute_result"
    }
   ],
   "source": [
    "\"hello world\""
   ]
  },
  {
   "cell_type": "code",
   "execution_count": 4,
   "id": "50d7ab52-d616-4036-8491-1427afc2c32a",
   "metadata": {},
   "outputs": [
    {
     "name": "stdout",
     "output_type": "stream",
     "text": [
      "neha shaw\n"
     ]
    }
   ],
   "source": [
    "print(\"neha shaw\")"
   ]
  },
  {
   "cell_type": "raw",
   "id": "a4f057fc-484c-4965-9ee2-a8d8222d82b7",
   "metadata": {},
   "source": [
    "## neha shaw"
   ]
  },
  {
   "cell_type": "raw",
   "id": "f8ddb593-0f6d-49ef-ad45-b6e36be44dd6",
   "metadata": {},
   "source": [
    "hnfksdjfjsddfisek"
   ]
  },
  {
   "cell_type": "code",
   "execution_count": null,
   "id": "f5bb9a3c-d0d1-4e99-8c15-582c11d90e0a",
   "metadata": {},
   "outputs": [],
   "source": []
  }
 ],
 "metadata": {
  "kernelspec": {
   "display_name": "Python 3 (ipykernel)",
   "language": "python",
   "name": "python3"
  },
  "language_info": {
   "codemirror_mode": {
    "name": "ipython",
    "version": 3
   },
   "file_extension": ".py",
   "mimetype": "text/x-python",
   "name": "python",
   "nbconvert_exporter": "python",
   "pygments_lexer": "ipython3",
   "version": "3.11.7"
  }
 },
 "nbformat": 4,
 "nbformat_minor": 5
}
